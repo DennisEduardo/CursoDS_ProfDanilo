{
 "cells": [
  {
   "cell_type": "code",
   "execution_count": 4,
   "metadata": {},
   "outputs": [],
   "source": [
    "import datetime as dt\n",
    "import pandas_datareader.data as web"
   ]
  },
  {
   "cell_type": "code",
   "execution_count": 9,
   "metadata": {},
   "outputs": [],
   "source": [
    "start = dt.datetime(2020,1,1)\n",
    "end = dt.datetime(2020,5,29)"
   ]
  },
  {
   "cell_type": "code",
   "execution_count": 10,
   "metadata": {},
   "outputs": [],
   "source": [
    "teste = web.DataReader('PETR4.SA',\"yahoo\",start,end)"
   ]
  },
  {
   "cell_type": "code",
   "execution_count": 11,
   "metadata": {},
   "outputs": [
    {
     "data": {
      "text/html": [
       "<div>\n",
       "<style scoped>\n",
       "    .dataframe tbody tr th:only-of-type {\n",
       "        vertical-align: middle;\n",
       "    }\n",
       "\n",
       "    .dataframe tbody tr th {\n",
       "        vertical-align: top;\n",
       "    }\n",
       "\n",
       "    .dataframe thead th {\n",
       "        text-align: right;\n",
       "    }\n",
       "</style>\n",
       "<table border=\"1\" class=\"dataframe\">\n",
       "  <thead>\n",
       "    <tr style=\"text-align: right;\">\n",
       "      <th></th>\n",
       "      <th>High</th>\n",
       "      <th>Low</th>\n",
       "      <th>Open</th>\n",
       "      <th>Close</th>\n",
       "      <th>Volume</th>\n",
       "      <th>Adj Close</th>\n",
       "    </tr>\n",
       "    <tr>\n",
       "      <th>Date</th>\n",
       "      <th></th>\n",
       "      <th></th>\n",
       "      <th></th>\n",
       "      <th></th>\n",
       "      <th></th>\n",
       "      <th></th>\n",
       "    </tr>\n",
       "  </thead>\n",
       "  <tbody>\n",
       "    <tr>\n",
       "      <th>2020-01-02</th>\n",
       "      <td>30.700001</td>\n",
       "      <td>30.309999</td>\n",
       "      <td>30.510000</td>\n",
       "      <td>30.700001</td>\n",
       "      <td>37774500.0</td>\n",
       "      <td>30.698339</td>\n",
       "    </tr>\n",
       "    <tr>\n",
       "      <th>2020-01-03</th>\n",
       "      <td>31.240000</td>\n",
       "      <td>30.450001</td>\n",
       "      <td>30.879999</td>\n",
       "      <td>30.450001</td>\n",
       "      <td>71595600.0</td>\n",
       "      <td>30.448353</td>\n",
       "    </tr>\n",
       "    <tr>\n",
       "      <th>2020-01-06</th>\n",
       "      <td>30.940001</td>\n",
       "      <td>29.950001</td>\n",
       "      <td>30.430000</td>\n",
       "      <td>30.809999</td>\n",
       "      <td>81844000.0</td>\n",
       "      <td>30.808332</td>\n",
       "    </tr>\n",
       "    <tr>\n",
       "      <th>2020-01-07</th>\n",
       "      <td>30.879999</td>\n",
       "      <td>30.469999</td>\n",
       "      <td>30.820000</td>\n",
       "      <td>30.690001</td>\n",
       "      <td>32822000.0</td>\n",
       "      <td>30.688339</td>\n",
       "    </tr>\n",
       "    <tr>\n",
       "      <th>2020-01-08</th>\n",
       "      <td>30.770000</td>\n",
       "      <td>30.240000</td>\n",
       "      <td>30.690001</td>\n",
       "      <td>30.500000</td>\n",
       "      <td>48215600.0</td>\n",
       "      <td>30.498348</td>\n",
       "    </tr>\n",
       "    <tr>\n",
       "      <th>...</th>\n",
       "      <td>...</td>\n",
       "      <td>...</td>\n",
       "      <td>...</td>\n",
       "      <td>...</td>\n",
       "      <td>...</td>\n",
       "      <td>...</td>\n",
       "    </tr>\n",
       "    <tr>\n",
       "      <th>2020-05-25</th>\n",
       "      <td>19.559999</td>\n",
       "      <td>19.260000</td>\n",
       "      <td>19.480000</td>\n",
       "      <td>19.480000</td>\n",
       "      <td>38033000.0</td>\n",
       "      <td>19.480000</td>\n",
       "    </tr>\n",
       "    <tr>\n",
       "      <th>2020-05-26</th>\n",
       "      <td>20.090000</td>\n",
       "      <td>19.330000</td>\n",
       "      <td>19.980000</td>\n",
       "      <td>19.670000</td>\n",
       "      <td>68716900.0</td>\n",
       "      <td>19.670000</td>\n",
       "    </tr>\n",
       "    <tr>\n",
       "      <th>2020-05-27</th>\n",
       "      <td>19.930000</td>\n",
       "      <td>19.150000</td>\n",
       "      <td>19.799999</td>\n",
       "      <td>19.930000</td>\n",
       "      <td>74790800.0</td>\n",
       "      <td>19.930000</td>\n",
       "    </tr>\n",
       "    <tr>\n",
       "      <th>2020-05-28</th>\n",
       "      <td>20.080000</td>\n",
       "      <td>19.450001</td>\n",
       "      <td>19.690001</td>\n",
       "      <td>19.770000</td>\n",
       "      <td>65023000.0</td>\n",
       "      <td>19.770000</td>\n",
       "    </tr>\n",
       "    <tr>\n",
       "      <th>2020-05-29</th>\n",
       "      <td>19.959999</td>\n",
       "      <td>19.299999</td>\n",
       "      <td>19.549999</td>\n",
       "      <td>19.910000</td>\n",
       "      <td>78542600.0</td>\n",
       "      <td>19.910000</td>\n",
       "    </tr>\n",
       "  </tbody>\n",
       "</table>\n",
       "<p>101 rows × 6 columns</p>\n",
       "</div>"
      ],
      "text/plain": [
       "                 High        Low       Open      Close      Volume  Adj Close\n",
       "Date                                                                         \n",
       "2020-01-02  30.700001  30.309999  30.510000  30.700001  37774500.0  30.698339\n",
       "2020-01-03  31.240000  30.450001  30.879999  30.450001  71595600.0  30.448353\n",
       "2020-01-06  30.940001  29.950001  30.430000  30.809999  81844000.0  30.808332\n",
       "2020-01-07  30.879999  30.469999  30.820000  30.690001  32822000.0  30.688339\n",
       "2020-01-08  30.770000  30.240000  30.690001  30.500000  48215600.0  30.498348\n",
       "...               ...        ...        ...        ...         ...        ...\n",
       "2020-05-25  19.559999  19.260000  19.480000  19.480000  38033000.0  19.480000\n",
       "2020-05-26  20.090000  19.330000  19.980000  19.670000  68716900.0  19.670000\n",
       "2020-05-27  19.930000  19.150000  19.799999  19.930000  74790800.0  19.930000\n",
       "2020-05-28  20.080000  19.450001  19.690001  19.770000  65023000.0  19.770000\n",
       "2020-05-29  19.959999  19.299999  19.549999  19.910000  78542600.0  19.910000\n",
       "\n",
       "[101 rows x 6 columns]"
      ]
     },
     "execution_count": 11,
     "metadata": {},
     "output_type": "execute_result"
    }
   ],
   "source": [
    "teste"
   ]
  },
  {
   "cell_type": "code",
   "execution_count": 14,
   "metadata": {},
   "outputs": [
    {
     "data": {
      "text/plain": [
       "<matplotlib.axes._subplots.AxesSubplot at 0x11bf20350>"
      ]
     },
     "execution_count": 14,
     "metadata": {},
     "output_type": "execute_result"
    },
    {
     "data": {
      "image/png": "[encoded data removed]",
      "text/plain": [
       "<Figure size 432x288 with 1 Axes>"
      ]
     },
     "metadata": {
      "needs_background": "light"
     },
     "output_type": "display_data"
    }
   ],
   "source": [
    "teste['Open'].plot()\n",
    "teste['Close'].plot()\n",
    "teste['Low'].plot()"
   ]
  },
  {
   "cell_type": "code",
   "execution_count": null,
   "metadata": {},
   "outputs": [],
   "source": []
  }
 ],
 "metadata": {
  "kernelspec": {
   "display_name": "Python 3",
   "language": "python",
   "name": "python3"
  },
  "language_info": {
   "codemirror_mode": {
    "name": "ipython",
    "version": 3
   },
   "file_extension": ".py",
   "mimetype": "text/x-python",
   "name": "python",
   "nbconvert_exporter": "python",
   "pygments_lexer": "ipython3",
   "version": "3.7.6"
  }
 },
 "nbformat": 4,
 "nbformat_minor": 4
}
