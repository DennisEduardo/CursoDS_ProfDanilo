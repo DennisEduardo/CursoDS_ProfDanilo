{
 "cells": [
  {
   "cell_type": "markdown",
   "metadata": {},
   "source": [
    "# Bolsa de valores"
   ]
  },
  {
   "cell_type": "markdown",
   "metadata": {},
   "source": [
    "Prevendo o volume de ações utilizando o modelo Random Forest Regressor"
   ]
  },
  {
   "cell_type": "markdown",
   "metadata": {},
   "source": [
    "* Utilizaremos dados do Yahoo Finance da PETR4 num intervalo de tempo específico"
   ]
  },
  {
   "cell_type": "markdown",
   "metadata": {},
   "source": [
    "* Dados serão obtido através da biblioteca Pandas DataReader"
   ]
  },
  {
   "cell_type": "markdown",
   "metadata": {},
   "source": [
    "Importando bibliotecas"
   ]
  },
  {
   "cell_type": "code",
   "execution_count": 51,
   "metadata": {},
   "outputs": [],
   "source": [
    "import datetime as dt\n",
    "import pandas_datareader.data as web\n",
    "import matplotlib.pyplot as plt\n",
    "import numpy as np"
   ]
  },
  {
   "cell_type": "markdown",
   "metadata": {},
   "source": [
    "Definindo janela de tempo"
   ]
  },
  {
   "cell_type": "code",
   "execution_count": 52,
   "metadata": {},
   "outputs": [],
   "source": [
    "start = dt.datetime(2018,1,1)\n",
    "end = dt.datetime(2020,8,31)"
   ]
  },
  {
   "cell_type": "markdown",
   "metadata": {},
   "source": [
    "Obtendo dados da PETR4"
   ]
  },
  {
   "cell_type": "code",
   "execution_count": 53,
   "metadata": {},
   "outputs": [],
   "source": [
    "PETR4 = web.DataReader('PETR4.SA',\"yahoo\",start,end)"
   ]
  },
  {
   "cell_type": "markdown",
   "metadata": {},
   "source": [
    "Exibindo as cinco primeiras linhas"
   ]
  },
  {
   "cell_type": "code",
   "execution_count": 54,
   "metadata": {},
   "outputs": [
    {
     "data": {
      "text/html": [
       "<div>\n",
       "<style scoped>\n",
       "    .dataframe tbody tr th:only-of-type {\n",
       "        vertical-align: middle;\n",
       "    }\n",
       "\n",
       "    .dataframe tbody tr th {\n",
       "        vertical-align: top;\n",
       "    }\n",
       "\n",
       "    .dataframe thead th {\n",
       "        text-align: right;\n",
       "    }\n",
       "</style>\n",
       "<table border=\"1\" class=\"dataframe\">\n",
       "  <thead>\n",
       "    <tr style=\"text-align: right;\">\n",
       "      <th></th>\n",
       "      <th>High</th>\n",
       "      <th>Low</th>\n",
       "      <th>Open</th>\n",
       "      <th>Close</th>\n",
       "      <th>Volume</th>\n",
       "      <th>Adj Close</th>\n",
       "    </tr>\n",
       "    <tr>\n",
       "      <th>Date</th>\n",
       "      <th></th>\n",
       "      <th></th>\n",
       "      <th></th>\n",
       "      <th></th>\n",
       "      <th></th>\n",
       "      <th></th>\n",
       "    </tr>\n",
       "  </thead>\n",
       "  <tbody>\n",
       "    <tr>\n",
       "      <th>2018-01-02</th>\n",
       "      <td>16.549999</td>\n",
       "      <td>16.190001</td>\n",
       "      <td>16.190001</td>\n",
       "      <td>16.549999</td>\n",
       "      <td>33461800.0</td>\n",
       "      <td>15.353477</td>\n",
       "    </tr>\n",
       "    <tr>\n",
       "      <th>2018-01-03</th>\n",
       "      <td>16.719999</td>\n",
       "      <td>16.370001</td>\n",
       "      <td>16.490000</td>\n",
       "      <td>16.700001</td>\n",
       "      <td>55940900.0</td>\n",
       "      <td>15.492632</td>\n",
       "    </tr>\n",
       "    <tr>\n",
       "      <th>2018-01-04</th>\n",
       "      <td>16.959999</td>\n",
       "      <td>16.620001</td>\n",
       "      <td>16.780001</td>\n",
       "      <td>16.730000</td>\n",
       "      <td>37064900.0</td>\n",
       "      <td>15.520465</td>\n",
       "    </tr>\n",
       "    <tr>\n",
       "      <th>2018-01-05</th>\n",
       "      <td>16.860001</td>\n",
       "      <td>16.570000</td>\n",
       "      <td>16.700001</td>\n",
       "      <td>16.830000</td>\n",
       "      <td>26958200.0</td>\n",
       "      <td>15.613236</td>\n",
       "    </tr>\n",
       "    <tr>\n",
       "      <th>2018-01-08</th>\n",
       "      <td>17.030001</td>\n",
       "      <td>16.709999</td>\n",
       "      <td>16.740000</td>\n",
       "      <td>17.030001</td>\n",
       "      <td>28400000.0</td>\n",
       "      <td>15.798776</td>\n",
       "    </tr>\n",
       "  </tbody>\n",
       "</table>\n",
       "</div>"
      ],
      "text/plain": [
       "                 High        Low       Open      Close      Volume  Adj Close\n",
       "Date                                                                         \n",
       "2018-01-02  16.549999  16.190001  16.190001  16.549999  33461800.0  15.353477\n",
       "2018-01-03  16.719999  16.370001  16.490000  16.700001  55940900.0  15.492632\n",
       "2018-01-04  16.959999  16.620001  16.780001  16.730000  37064900.0  15.520465\n",
       "2018-01-05  16.860001  16.570000  16.700001  16.830000  26958200.0  15.613236\n",
       "2018-01-08  17.030001  16.709999  16.740000  17.030001  28400000.0  15.798776"
      ]
     },
     "execution_count": 54,
     "metadata": {},
     "output_type": "execute_result"
    }
   ],
   "source": [
    "PETR4.head()"
   ]
  },
  {
   "cell_type": "markdown",
   "metadata": {},
   "source": [
    "Exibindo as cinco últimas linhas"
   ]
  },
  {
   "cell_type": "code",
   "execution_count": 55,
   "metadata": {},
   "outputs": [
    {
     "data": {
      "text/html": [
       "<div>\n",
       "<style scoped>\n",
       "    .dataframe tbody tr th:only-of-type {\n",
       "        vertical-align: middle;\n",
       "    }\n",
       "\n",
       "    .dataframe tbody tr th {\n",
       "        vertical-align: top;\n",
       "    }\n",
       "\n",
       "    .dataframe thead th {\n",
       "        text-align: right;\n",
       "    }\n",
       "</style>\n",
       "<table border=\"1\" class=\"dataframe\">\n",
       "  <thead>\n",
       "    <tr style=\"text-align: right;\">\n",
       "      <th></th>\n",
       "      <th>High</th>\n",
       "      <th>Low</th>\n",
       "      <th>Open</th>\n",
       "      <th>Close</th>\n",
       "      <th>Volume</th>\n",
       "      <th>Adj Close</th>\n",
       "    </tr>\n",
       "    <tr>\n",
       "      <th>Date</th>\n",
       "      <th></th>\n",
       "      <th></th>\n",
       "      <th></th>\n",
       "      <th></th>\n",
       "      <th></th>\n",
       "      <th></th>\n",
       "    </tr>\n",
       "  </thead>\n",
       "  <tbody>\n",
       "    <tr>\n",
       "      <th>2020-08-25</th>\n",
       "      <td>23.150000</td>\n",
       "      <td>22.690001</td>\n",
       "      <td>23.090000</td>\n",
       "      <td>22.870001</td>\n",
       "      <td>37981400.0</td>\n",
       "      <td>22.870001</td>\n",
       "    </tr>\n",
       "    <tr>\n",
       "      <th>2020-08-26</th>\n",
       "      <td>22.900000</td>\n",
       "      <td>22.040001</td>\n",
       "      <td>22.780001</td>\n",
       "      <td>22.219999</td>\n",
       "      <td>69925300.0</td>\n",
       "      <td>22.219999</td>\n",
       "    </tr>\n",
       "    <tr>\n",
       "      <th>2020-08-27</th>\n",
       "      <td>22.469999</td>\n",
       "      <td>22.040001</td>\n",
       "      <td>22.320000</td>\n",
       "      <td>22.150000</td>\n",
       "      <td>35489800.0</td>\n",
       "      <td>22.150000</td>\n",
       "    </tr>\n",
       "    <tr>\n",
       "      <th>2020-08-28</th>\n",
       "      <td>22.540001</td>\n",
       "      <td>22.059999</td>\n",
       "      <td>22.250000</td>\n",
       "      <td>22.540001</td>\n",
       "      <td>31071000.0</td>\n",
       "      <td>22.540001</td>\n",
       "    </tr>\n",
       "    <tr>\n",
       "      <th>2020-08-31</th>\n",
       "      <td>22.430000</td>\n",
       "      <td>21.889999</td>\n",
       "      <td>22.320000</td>\n",
       "      <td>21.889999</td>\n",
       "      <td>48539700.0</td>\n",
       "      <td>21.889999</td>\n",
       "    </tr>\n",
       "  </tbody>\n",
       "</table>\n",
       "</div>"
      ],
      "text/plain": [
       "                 High        Low       Open      Close      Volume  Adj Close\n",
       "Date                                                                         \n",
       "2020-08-25  23.150000  22.690001  23.090000  22.870001  37981400.0  22.870001\n",
       "2020-08-26  22.900000  22.040001  22.780001  22.219999  69925300.0  22.219999\n",
       "2020-08-27  22.469999  22.040001  22.320000  22.150000  35489800.0  22.150000\n",
       "2020-08-28  22.540001  22.059999  22.250000  22.540001  31071000.0  22.540001\n",
       "2020-08-31  22.430000  21.889999  22.320000  21.889999  48539700.0  21.889999"
      ]
     },
     "execution_count": 55,
     "metadata": {},
     "output_type": "execute_result"
    }
   ],
   "source": [
    "PETR4.tail()"
   ]
  },
  {
   "cell_type": "markdown",
   "metadata": {},
   "source": [
    "Graficando valores de abertura, fechamento, mínimo e máximo"
   ]
  },
  {
   "cell_type": "code",
   "execution_count": 56,
   "metadata": {},
   "outputs": [
    {
     "data": {
      "image/png": "[encoded data removed]",
      "text/plain": [
       "<Figure size 432x288 with 4 Axes>"
      ]
     },
     "metadata": {
      "needs_background": "light"
     },
     "output_type": "display_data"
    }
   ],
   "source": [
    "plt.subplot(2,2,1)\n",
    "PETR4['Open'].plot(label='Open')\n",
    "plt.xlabel('Data')\n",
    "plt.ylabel('Open')\n",
    "plt.subplot(2,2,2)\n",
    "PETR4['Close'].plot(label='Close')\n",
    "plt.xlabel('Data')\n",
    "plt.ylabel('Close')\n",
    "plt.subplot(2,2,3)\n",
    "PETR4['Low'].plot(label='Low')\n",
    "plt.xlabel('Data')\n",
    "plt.ylabel('Low')\n",
    "plt.subplot(2,2,4)\n",
    "PETR4['High'].plot(label='High')\n",
    "plt.xlabel('Data')\n",
    "plt.ylabel('High')\n",
    "plt.tight_layout()"
   ]
  },
  {
   "cell_type": "markdown",
   "metadata": {},
   "source": [
    "Definindo variáveis X e Y"
   ]
  },
  {
   "cell_type": "code",
   "execution_count": 57,
   "metadata": {},
   "outputs": [],
   "source": [
    "X = PETR4.drop(['Volume','Adj Close'],axis=1)\n",
    "Y = PETR4['Volume']"
   ]
  },
  {
   "cell_type": "markdown",
   "metadata": {},
   "source": [
    "* Criando amostra de treino e teste"
   ]
  },
  {
   "cell_type": "code",
   "execution_count": 58,
   "metadata": {},
   "outputs": [],
   "source": [
    "X_treino = X[X.index<'2020-01-01'].values\n",
    "X_teste = X[X.index>='2020-01-01'].values\n",
    "\n",
    "Y_treino = Y[X.index<'2020-01-01'].values\n",
    "Y_teste = Y[X.index>='2020-01-01'].values"
   ]
  },
  {
   "cell_type": "markdown",
   "metadata": {},
   "source": [
    "* Prevendo volume utilizando modelo Random Forest Regressor"
   ]
  },
  {
   "cell_type": "code",
   "execution_count": 59,
   "metadata": {},
   "outputs": [],
   "source": [
    "from sklearn.ensemble import RandomForestRegressor"
   ]
  },
  {
   "cell_type": "code",
   "execution_count": 60,
   "metadata": {},
   "outputs": [],
   "source": [
    "rfr = RandomForestRegressor()"
   ]
  },
  {
   "cell_type": "code",
   "execution_count": 61,
   "metadata": {},
   "outputs": [
    {
     "data": {
      "text/plain": [
       "RandomForestRegressor()"
      ]
     },
     "execution_count": 61,
     "metadata": {},
     "output_type": "execute_result"
    }
   ],
   "source": [
    "rfr.fit(X_treino,Y_treino)"
   ]
  },
  {
   "cell_type": "code",
   "execution_count": 62,
   "metadata": {},
   "outputs": [],
   "source": [
    "Y_previsto = rfr.predict(X_teste)"
   ]
  },
  {
   "cell_type": "code",
   "execution_count": 63,
   "metadata": {},
   "outputs": [
    {
     "data": {
      "text/plain": [
       "array([3.777450e+07, 7.159560e+07, 8.184400e+07, 3.282200e+07,\n",
       "       4.821560e+07, 3.610270e+07, 2.539750e+07, 3.067680e+07,\n",
       "       3.979650e+07, 3.440570e+07, 2.899740e+07, 3.490800e+07,\n",
       "       3.124140e+07, 2.857740e+07, 3.249150e+07, 5.375210e+07,\n",
       "       3.689870e+07, 6.610530e+07, 4.725910e+07, 4.229750e+07,\n",
       "       4.426680e+07, 5.544670e+07, 3.945280e+07, 5.765840e+07,\n",
       "       6.799450e+07, 1.261140e+08, 5.451460e+07, 4.532810e+07,\n",
       "       3.751820e+07, 6.485100e+07, 5.527710e+07, 3.039990e+07,\n",
       "       3.868490e+07, 3.389090e+07, 4.418180e+07, 7.352290e+07,\n",
       "       4.780510e+07, 1.001121e+08, 8.909530e+07, 7.159640e+07,\n",
       "       8.685570e+07, 4.232050e+07, 6.972230e+07, 1.385976e+08,\n",
       "       2.548138e+08, 1.704780e+08, 1.324824e+08, 1.515359e+08,\n",
       "       1.749726e+08, 1.264328e+08, 1.492285e+08, 1.625152e+08,\n",
       "       1.570652e+08, 1.490299e+08, 1.070924e+08, 1.142592e+08,\n",
       "       1.582862e+08, 1.306184e+08, 1.014059e+08, 1.109472e+08,\n",
       "       1.561165e+08, 1.144550e+08, 2.349512e+08, 1.428987e+08,\n",
       "       1.239342e+08, 1.404989e+08, 1.161516e+08, 1.857713e+08,\n",
       "       9.372400e+07, 9.101720e+07, 8.674960e+07, 1.156333e+08,\n",
       "       1.167330e+08, 1.337394e+08, 1.149671e+08, 9.475900e+07,\n",
       "       1.611888e+08, 8.594490e+07, 9.161360e+07, 9.452840e+07,\n",
       "       8.026390e+07, 6.026840e+07, 7.504340e+07, 6.793750e+07,\n",
       "       8.126510e+07, 8.323270e+07, 6.506150e+07, 7.183720e+07,\n",
       "       8.722230e+07, 1.196532e+08, 1.337331e+08, 1.169995e+08,\n",
       "       8.013160e+07, 7.459510e+07, 8.132700e+07, 7.125940e+07,\n",
       "       3.803300e+07, 6.871690e+07, 7.479080e+07, 6.502300e+07,\n",
       "       1.288326e+08, 8.657950e+07, 7.723510e+07, 8.621970e+07,\n",
       "       1.074014e+08, 1.141377e+08, 8.244440e+07, 9.648830e+07,\n",
       "       1.025511e+08, 1.167467e+08, 9.993100e+07, 9.451060e+07,\n",
       "       6.326870e+07, 5.689330e+07, 9.113980e+07, 4.541900e+07,\n",
       "       7.895090e+07, 6.516240e+07, 4.726350e+07, 5.549930e+07,\n",
       "       5.980960e+07, 6.501060e+07, 7.898390e+07, 5.634590e+07,\n",
       "       2.406000e+07, 5.807090e+07, 4.659130e+07, 4.913630e+07,\n",
       "       5.715150e+07, 5.742830e+07, 5.542550e+07, 8.938050e+07,\n",
       "       5.839060e+07, 6.969870e+07, 4.992760e+07, 4.867980e+07,\n",
       "       1.017696e+08, 4.308550e+07, 6.407210e+07, 4.338030e+07,\n",
       "       5.653960e+07, 4.835300e+07, 4.401150e+07, 5.785900e+07,\n",
       "       7.539730e+07, 6.359850e+07, 6.301190e+07, 1.372147e+08,\n",
       "       5.637510e+07, 5.604020e+07, 5.239010e+07, 6.634230e+07,\n",
       "       6.700850e+07, 4.458820e+07, 3.842200e+07, 5.206430e+07,\n",
       "       4.936130e+07, 5.198210e+07, 5.525170e+07, 3.866830e+07,\n",
       "       5.184190e+07, 3.798140e+07, 6.992530e+07, 3.548980e+07,\n",
       "       3.107100e+07, 4.853970e+07])"
      ]
     },
     "execution_count": 63,
     "metadata": {},
     "output_type": "execute_result"
    }
   ],
   "source": [
    "Y_teste"
   ]
  },
  {
   "cell_type": "markdown",
   "metadata": {},
   "source": [
    "* Graficando Y_previsto em função de Y_teste"
   ]
  },
  {
   "cell_type": "code",
   "execution_count": 64,
   "metadata": {},
   "outputs": [
    {
     "data": {
      "image/png": "[encoded data removed]",
      "text/plain": [
       "<Figure size 432x288 with 1 Axes>"
      ]
     },
     "metadata": {
      "needs_background": "light"
     },
     "output_type": "display_data"
    }
   ],
   "source": [
    "plt.scatter(Y_teste,Y_previsto)\n",
    "plt.xlabel('Y_teste')\n",
    "plt.ylabel('Y_previsto')\n",
    "plt.tight_layout()"
   ]
  },
  {
   "cell_type": "markdown",
   "metadata": {},
   "source": [
    "Calculando métricas de erro"
   ]
  },
  {
   "cell_type": "code",
   "execution_count": 65,
   "metadata": {},
   "outputs": [],
   "source": [
    "from sklearn.metrics import mean_absolute_error, mean_squared_error"
   ]
  },
  {
   "cell_type": "code",
   "execution_count": 66,
   "metadata": {},
   "outputs": [],
   "source": [
    "def mean_absolute_percentage_error(y_true, y_pred): \n",
    "    y_true, y_pred = np.array(y_true), np.array(y_pred)\n",
    "    return np.mean(np.abs((y_true - y_pred) / y_true)) * 100"
   ]
  },
  {
   "cell_type": "code",
   "execution_count": 67,
   "metadata": {},
   "outputs": [],
   "source": [
    "MAE = mean_absolute_error(Y_teste,Y_previsto)\n",
    "MAPE = mean_absolute_percentage_error(Y_teste,Y_previsto)\n",
    "MSE = mean_squared_error(Y_teste,Y_previsto)\n",
    "RMSE = np.sqrt(MSE)"
   ]
  },
  {
   "cell_type": "code",
   "execution_count": 68,
   "metadata": {},
   "outputs": [
    {
     "name": "stdout",
     "output_type": "stream",
     "text": [
      "MAE = 26773106.92\n",
      "MAPE = 28.78%\n",
      "MSE = 1594188639467310.75\n",
      "RMSE = 39927291.91\n"
     ]
    }
   ],
   "source": [
    "print(\"MAE = {:0.2f}\".format(MAE))\n",
    "print(\"MAPE = {:0.2f}%\".format(MAPE))\n",
    "print(\"MSE = {:0.2f}\".format(MSE))\n",
    "print(\"RMSE = {:0.2f}\".format(RMSE))"
   ]
  },
  {
   "cell_type": "markdown",
   "metadata": {},
   "source": [
    "Podemos prever o valor com uma incerteza de 28.78%"
   ]
  },
  {
   "cell_type": "markdown",
   "metadata": {},
   "source": [
    "Melhorias podem ser obtidas adicionando-se indicores da bolsa na amostra"
   ]
  }
 ],
 "metadata": {
  "kernelspec": {
   "display_name": "Python 3",
   "language": "python",
   "name": "python3"
  },
  "language_info": {
   "codemirror_mode": {
    "name": "ipython",
    "version": 3
   },
   "file_extension": ".py",
   "mimetype": "text/x-python",
   "name": "python",
   "nbconvert_exporter": "python",
   "pygments_lexer": "ipython3",
   "version": "3.8.3"
  }
 },
 "nbformat": 4,
 "nbformat_minor": 4
}
